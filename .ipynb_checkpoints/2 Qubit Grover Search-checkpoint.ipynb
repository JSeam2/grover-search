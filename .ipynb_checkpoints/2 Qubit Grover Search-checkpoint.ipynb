{
 "cells": [
  {
   "cell_type": "markdown",
   "metadata": {},
   "source": [
    "# 2 Qubit Grover Search\n",
    "This is a sample implementation of a trivial 2 Qubit Grover Search on IBM Quantum Experience. Ensure that you already have an IBM Quantum Experience Account to use the cloud quantum computing facilities provided by IBM. \n",
    "\n",
    "<em>This notebook assumes that you are already familiar with bra-ket notation and quantum gates. Do refer to Nielsen and Chuang's Quantum Information and Computation textbook if anything should be unclear. Apologies in advance to anyone reading this.</em> (⊃◜⌓◝⊂)\n",
    "\n",
    "Glossing over key details, the algorithm essentially does a few things:\n",
    "1. Applies some oracle to mark the solutions\n",
    "2. Amplifies probabilities to make the solution more obvious\n",
    "3. Repeat until we can find the solution with ~100% accuracy\n",
    "\n",
    "### Import Relevant Libraries"
   ]
  },
  {
   "cell_type": "code",
   "execution_count": 1,
   "metadata": {},
   "outputs": [],
   "source": [
    "# Setting up...\n",
    "import time\n",
    "\n",
    "# Import QISKIT\n",
    "from qiskit import QuantumCircuit, ClassicalRegister, QuantumRegister\n",
    "from qiskit import register, available_backends, get_backend, execute\n",
    "from qiskit.tools.visualization import plot_histogram, circuit_drawer\n",
    "\n",
    "# Latex\n",
    "from IPython.display import Latex"
   ]
  },
  {
   "cell_type": "markdown",
   "metadata": {},
   "source": [
    "### Settings\n",
    "We use the following settings, change accordingly."
   ]
  },
  {
   "cell_type": "code",
   "execution_count": 2,
   "metadata": {},
   "outputs": [],
   "source": [
    "# Settings\n",
    "LOCAL = False\n",
    "USE_SIMULATOR = False\n",
    "MAX_CREDIT = 3\n",
    "SHOTS = 1024\n",
    "QUBITS = 5    # We only have 5 Qubits and 16 Qubits QC available"
   ]
  },
  {
   "cell_type": "code",
   "execution_count": 3,
   "metadata": {},
   "outputs": [
    {
     "name": "stdout",
     "output_type": "stream",
     "text": [
      "Local backends:  ['local_statevector_simulator', 'local_qasm_simulator', 'local_unitary_simulator', 'local_clifford_simulator']\n"
     ]
    }
   ],
   "source": [
    "# Backends available\n",
    "\n",
    "print(\"Local backends: \", available_backends({'local': True}))\n",
    " "
   ]
  },
  {
   "cell_type": "markdown",
   "metadata": {},
   "source": [
    "### Load Backend\n",
    "Load the backend based on the Settings given above."
   ]
  },
  {
   "cell_type": "code",
   "execution_count": 4,
   "metadata": {},
   "outputs": [
    {
     "name": "stdout",
     "output_type": "stream",
     "text": [
      "All backends:  ['local_clifford_simulator', 'ibmqx2', 'local_qasm_simulator', 'ibmqx4', 'ibmqx5', 'local_unitary_simulator', 'local_statevector_simulator', 'ibmq_qasm_simulator']\n"
     ]
    }
   ],
   "source": [
    "# Load Backend\n",
    "if LOCAL:\n",
    "    # Local backends available\n",
    "    # 'local_statevector_simulator', 'local_clifford_simulator', 'local_qasm_simulator', 'local_unitary_simulator'\n",
    "    backend = \"local_qasm_simulator\"\n",
    "\n",
    "else:\n",
    "    try:\n",
    "        import Qconfig\n",
    "        qx_config = {\n",
    "            \"APIToken\": Qconfig.APIToken,\n",
    "            \"url\": Qconfig.config['url']\n",
    "        }\n",
    "\n",
    "    except Exception as e:\n",
    "        print(e)\n",
    "        qx_config = {\n",
    "            \"APIToken\": \"Insert Token Here\",\n",
    "            \"url\": \"https://quantumexperience.ng.bluemix.net/api\"\n",
    "            }\n",
    "\n",
    "    # Use simulator\n",
    "    if not USE_SIMULATOR:\n",
    "        if QUBITS == 5:\n",
    "            backend = \"ibmqx4\"\n",
    "        elif QUBITS == 16:\n",
    "            backend = \"ibmqx5\"\n",
    "        else:\n",
    "            print(\"Only 5 Qubit and 16 Qubit quantum computer is available.\")\n",
    "\n",
    "    else:\n",
    "        backend = \"ibmqx_qasm_simulator\"\n",
    "        \n",
    "    #Setup API\n",
    "    register(qx_config['APIToken'], qx_config['url'])\n",
    "    print(\"All backends: \", available_backends())"
   ]
  },
  {
   "cell_type": "markdown",
   "metadata": {},
   "source": [
    "### Setup Quantum Circuit\n",
    "In our case we only need 2 Qubit Registers and 2 Classical Registers for output"
   ]
  },
  {
   "cell_type": "code",
   "execution_count": 5,
   "metadata": {},
   "outputs": [],
   "source": [
    "try:\n",
    "    # bit size \n",
    "    N = 2\n",
    "\n",
    "    # Create a quantum register with 2 qbits\n",
    "    q = QuantumRegister(N)\n",
    "\n",
    "    # Create a classical register with 2 bits\n",
    "    c = ClassicalRegister(N)\n",
    "\n",
    "    # Create a quantum circuit\n",
    "    qc = QuantumCircuit(q, c)\n",
    "    \n",
    "except Exception as e:\n",
    "    print('There was an exception. {}'.format(e))"
   ]
  },
  {
   "cell_type": "markdown",
   "metadata": {},
   "source": [
    "# Circuit / Algo\n",
    "The current setup we're replicating is found here, from the QISKit tutorial. \n",
    "\n",
    "**Note that Hadamard - CNOT/CX - Hadamard combination is equivalent to a CZ gate.**\n",
    "\n",
    "As there are 2 qubits. we have $ 2^2 = 4$ states for example 00, 01, 10, 11. In this case the answer is 00. How we control the result we want is determined by the S phase gate. More examples can be found in the reference to the link to the tutorial in the References section.\n",
    "![img](https://camo.githubusercontent.com/a744c526554abdeae9fc8aa1274b56c918167a0d/68747470733a2f2f64616c2e6f626a65637473746f726167652e6f70656e2e736f66746c617965722e636f6d2f76312f415554485f34323236336566633435313834633763613437343235313235383861313934322f636f6465732f636f64652d64396334306632376436376434626637323232303966616133346138666431632e706e67)"
   ]
  },
  {
   "cell_type": "markdown",
   "metadata": {},
   "source": [
    "# Implementation of the Oracle\n",
    "The action of the oracle essentially marks solution. So we need something that performs the operation below. \n",
    "\n",
    "- x is the index register\n",
    "- q is the oracle qubit (we observe the change in this state)\n",
    "- O is some unitary operator defined by it action on the computation basis as seen below\n",
    "- f(x) is a function of x that flips q\n",
    "\n",
    "The formulation of the oracle is essentially the formula below. \n",
    "$$ \\left| x \\right\\rangle \\left| q \\right\\rangle \\xrightarrow{O} \\left| x \\right\\rangle \\left| q \\oplus f(x) \\right\\rangle $$\n"
   ]
  },
  {
   "cell_type": "markdown",
   "metadata": {},
   "source": [
    "A general idea as to how this work is that we can first prepare the input state |x> |0> and check if the oracle qubit in this case |0> has flipped to |1>. If it is not a solution there would be no change. We can apply a Hadamard transform to obtain the following action of the oracle. Note: If x is not a solution the state is unchnged. If x is a solution |0> and |1> is interchanged.\n",
    "\n",
    "$$\\left| x \\right\\rangle (\\frac{\\left| 0 \\right\\rangle - \\left| 1 \\right\\rangle}{\\sqrt{2}}) \\xrightarrow{O} (-1)^{f(x)} \\left| x \\right\\rangle (\\frac{\\left| 0 \\right\\rangle - \\left| 1 \\right\\rangle}{\\sqrt{2}})\n",
    " $$ "
   ]
  },
  {
   "cell_type": "markdown",
   "metadata": {},
   "source": [
    "Simplifying the notation further we can essentially treat the operation as below.\n",
    "$$ \\left| x \\right\\rangle \\xrightarrow{O} (-1)^{f(x)} \\left| x \\right\\rangle $$\n",
    "\n"
   ]
  },
  {
   "cell_type": "markdown",
   "metadata": {},
   "source": [
    "## Code"
   ]
  },
  {
   "cell_type": "code",
   "execution_count": 6,
   "metadata": {},
   "outputs": [],
   "source": [
    "######################\n",
    "#    \tORACLE\t\t #\n",
    "######################\n",
    "try:\n",
    "    # Apply H to all qubits to superpose\n",
    "    for i in range(N):\n",
    "        qc.h(q[i])\n",
    "\n",
    "    # Apply S (Clifford phase gate) to all qubits\n",
    "    for i in range(N):\n",
    "        qc.s(q[i])\n",
    "\n",
    "    # Apply CZ, note that this is equivalent to \n",
    "    # ---o---\n",
    "    #    |\n",
    "    # -H-X-H-\n",
    "    qc.cz(q[0], q[1])\n",
    "\n",
    "    # Reapply in reverse\n",
    "    for i in range(N):\n",
    "        qc.s(q[i])\n",
    "\n",
    "except Exception as e:\n",
    "    print('There was an exception. {}'.format(e))"
   ]
  },
  {
   "cell_type": "markdown",
   "metadata": {},
   "source": [
    "# Implementation of Inversion About Mean\n",
    "A key step of the Grover's Search algorithm is to amplify the probability. This step is known as inverting about the mean. This step essentially performs these key operations:\n",
    "\n",
    "### Overview\n",
    "1. Apply H gate to all qubits\n",
    "2. Apply a conditional phase shift \n",
    "3. Apply H gate to all qubits again"
   ]
  },
  {
   "cell_type": "code",
   "execution_count": 7,
   "metadata": {},
   "outputs": [],
   "source": [
    "######################\n",
    "#    INV ABOUT MEAN\t #\n",
    "######################\n",
    "try:\n",
    "    # Apply H to all bits\n",
    "    for i in range(N):\n",
    "        qc.h(q[i])\n",
    "        \n",
    "    # Apply X to all bits\n",
    "    for i in range(N):\n",
    "        qc.x(q[i])\n",
    "\n",
    "    # Apply CZ, note that this is equivalent to \n",
    "    # ---o---\n",
    "    #    |\n",
    "    # -H-X-H-\n",
    "    qc.cz(q[0], q[1])\n",
    "\n",
    "    # Apply X to all bits\n",
    "    for i in range(N):\n",
    "        qc.x(q[i])\n",
    "\n",
    "    # Apply H to all bits\t\t\t\t\n",
    "    for i in range(N):\n",
    "        qc.h(q[i])\n",
    "\n",
    "except Exception as e:\n",
    "    print('There was an exception. {}'.format(e))"
   ]
  },
  {
   "cell_type": "markdown",
   "metadata": {},
   "source": [
    "# Measurement and Execution"
   ]
  },
  {
   "cell_type": "code",
   "execution_count": 8,
   "metadata": {},
   "outputs": [
    {
     "name": "stdout",
     "output_type": "stream",
     "text": [
      "Waiting for server...\n",
      "Waiting for server...\n",
      "Waiting for server...\n",
      "Waiting for server...\n",
      "Waiting for server...\n",
      "Waiting for server...\n",
      "Waiting for server...\n",
      "Waiting for server...\n",
      "Waiting for server...\n",
      "Waiting for server...\n",
      "There was an exception. HTTPSConnectionPool(host='quantumexperience.ng.bluemix.net', port=443): Max retries exceeded with url: /api/Jobs/5b21ca8318b2bb003881d490?access_token=inxGztO5cUbk6RDp9xaJDKHLMVVmQmfajbHYBF6YBmSX8YjK3oF4riGjprY9yQ2E (Caused by NewConnectionError('<urllib3.connection.VerifiedHTTPSConnection object at 0x0000000014956128>: Failed to establish a new connection: [Errno 11004] getaddrinfo failed',))\n"
     ]
    }
   ],
   "source": [
    "try:\n",
    "    # Add a measure gate to see the state\n",
    "    qc.measure(q, c)\n",
    "\n",
    "    # See a list of available local simulators\n",
    "    # print(\"Local Backends: \", available_backends({'local': True}))\n",
    "\n",
    "    # Compile and execute\n",
    "    if LOCAL:\n",
    "        job_exp = execute(qc, backend)\n",
    "    else:\n",
    "        job_exp = execute(qc, backend, shots = SHOTS, max_credits = MAX_CREDIT)\n",
    "\n",
    "        \n",
    "    count = 0\n",
    "    while not job_exp.done:\n",
    "        # check job status every 10 seconds\n",
    "        time.sleep(10)\n",
    "        \n",
    "        # Print every minute\n",
    "        count += 1\n",
    "        if count % 6 == 0:\n",
    "            print(\"Waiting for server...\")\n",
    "        \n",
    "    result = job_exp.result()\n",
    "\n",
    "    # Display result\n",
    "    print(\"Results: \", result)\n",
    "    print(result.get_data())\n",
    "\n",
    "except Exception as e:\n",
    "    print('There was an exception. {}'.format(e))    "
   ]
  },
  {
   "cell_type": "markdown",
   "metadata": {},
   "source": [
    "# Plot Results\n",
    "\n",
    "## Histogram\n",
    "Counts for measurement obtained"
   ]
  },
  {
   "cell_type": "code",
   "execution_count": 9,
   "metadata": {},
   "outputs": [
    {
     "ename": "NameError",
     "evalue": "name 'result' is not defined",
     "output_type": "error",
     "traceback": [
      "\u001b[1;31m---------------------------------------------------------------------------\u001b[0m",
      "\u001b[1;31mNameError\u001b[0m                                 Traceback (most recent call last)",
      "\u001b[1;32m<ipython-input-9-7e943466db8d>\u001b[0m in \u001b[0;36m<module>\u001b[1;34m()\u001b[0m\n\u001b[1;32m----> 1\u001b[1;33m \u001b[0mplot_histogram\u001b[0m\u001b[1;33m(\u001b[0m\u001b[0mresult\u001b[0m\u001b[1;33m.\u001b[0m\u001b[0mget_counts\u001b[0m\u001b[1;33m(\u001b[0m\u001b[0mqc\u001b[0m\u001b[1;33m)\u001b[0m\u001b[1;33m)\u001b[0m\u001b[1;33m\u001b[0m\u001b[0m\n\u001b[0m",
      "\u001b[1;31mNameError\u001b[0m: name 'result' is not defined"
     ]
    }
   ],
   "source": [
    "plot_histogram(result.get_counts(qc))"
   ]
  },
  {
   "cell_type": "markdown",
   "metadata": {},
   "source": [
    "# Final Notes\n",
    "After applying hadamard to all the qubits initially. We apply the oracle and the inversion about the mean, this is known as the Grover's iteration. We have to apply Grover's iteration $O( \\sqrt{N} )$ times to get the solution. In this case since we only have 2 qubits applying Grover's iteration ~1 time is sufficient to obtain the desired result."
   ]
  },
  {
   "cell_type": "markdown",
   "metadata": {},
   "source": [
    "# References\n",
    "1. Nielsen and Chuang's Quantum Computation and Information\n",
    "\n",
    "2. https://github.com/QISKit/ibmqx-user-guides/blob/master/rst/full-user-guide/004-Quantum_Algorithms/070-Grover's_Algorithm.rst"
   ]
  },
  {
   "cell_type": "markdown",
   "metadata": {},
   "source": [
    "# Gate Used\n",
    "### Single Gate\n",
    "- Hadamard,\n",
    "$ H = \\frac{1}{\\sqrt{2}}\\bigl(\\begin{matrix}1 & 1 \\\\ 1 & -1 \\end{matrix}\\bigr) $\n",
    "\n",
    "- Pauli-X,\n",
    "$ X = \\bigl(\\begin{matrix}0 & 1 \\\\ 1 & 0 \\end{matrix}\\bigr) $\n",
    "\n",
    "- Pauli-Z,\n",
    "$ Z = \\bigl(\\begin{matrix}1 & 0 \\\\ 0 & -1 \\end{matrix}\\bigr) $\n",
    "\n",
    "- S, phase gate,\n",
    "$ S = \\bigl(\\begin{matrix}1 & 0 \\\\ 0 & i \\end{matrix}\\bigr) $\n",
    "\n",
    "### Conditional\n",
    "- CNOT / CX, \n",
    "$ CNOT = \\bigl(\\begin{matrix}1 & 0 & 0 & 0 \\\\ 0 & 1 & 0 & 0 \\\\ 0 & 0 & 0 & 1 \\\\ 0 & 0 & 1 & 0 \\end{matrix}\\bigr) $\n",
    "\n",
    "- CZ, \n",
    "$ CZ = \\bigl(\\begin{matrix}1 & 0 & 0 & 0 \\\\ 0 & 1 & 0 & 0 \\\\ 0 & 1 & 0 & 0 \\\\ 0 & 0 & 0 & -1 \\end{matrix}\\bigr) $"
   ]
  },
  {
   "cell_type": "code",
   "execution_count": null,
   "metadata": {},
   "outputs": [],
   "source": []
  }
 ],
 "metadata": {
  "kernelspec": {
   "display_name": "Python 3",
   "language": "python",
   "name": "python3"
  },
  "language_info": {
   "codemirror_mode": {
    "name": "ipython",
    "version": 3
   },
   "file_extension": ".py",
   "mimetype": "text/x-python",
   "name": "python",
   "nbconvert_exporter": "python",
   "pygments_lexer": "ipython3",
   "version": "3.6.4"
  }
 },
 "nbformat": 4,
 "nbformat_minor": 2
}
