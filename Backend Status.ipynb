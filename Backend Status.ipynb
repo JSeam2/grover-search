{
 "cells": [
  {
   "cell_type": "markdown",
   "metadata": {},
   "source": [
    "# Backend Status\n",
    "Notebook to obtain status about backends\n",
    "\n",
    "[More details](https://nbviewer.jupyter.org/github/QISKit/qiskit-tutorial/blob/master/reference/tools/working_with_backends.ipynb)"
   ]
  },
  {
   "cell_type": "code",
   "execution_count": 1,
   "metadata": {},
   "outputs": [],
   "source": [
    "# import\n",
    "from qiskit import QuantumCircuit, ClassicalRegister, QuantumRegister, QISKitError, QuantumJob\n",
    "from qiskit import available_backends, execute, register, get_backend, compile\n",
    "\n",
    "from qiskit.tools.visualization import plot_histogram\n",
    "from pprint import pprint"
   ]
  },
  {
   "cell_type": "code",
   "execution_count": 2,
   "metadata": {},
   "outputs": [
    {
     "name": "stdout",
     "output_type": "stream",
     "text": [
      "Qconfig loaded from C:\\Users\\sjoshia\\Documents\\Project\\Quantum\\Qconfig.py.\n"
     ]
    }
   ],
   "source": [
    "# Load backend info\n",
    "import sys, time, getpass\n",
    "try:\n",
    "    import Qconfig\n",
    "    qx_config = {\n",
    "        \"APIToken\": Qconfig.APIToken,\n",
    "        \"url\": Qconfig.config['url']}\n",
    "    print('Qconfig loaded from %s.' % Qconfig.__file__)\n",
    "except:\n",
    "    APItoken = getpass.getpass('Please input your token and hit enter: ')\n",
    "    qx_config = {\n",
    "        \"APItoken\": APItoken,\n",
    "        \"url\":\"https://quantumexperience.ng.bluemix.net/api\"}\n",
    "    print('Qconfig.py not found in qiskit-tutorial directory; Qconfig loaded using user input.')\n"
   ]
  },
  {
   "cell_type": "markdown",
   "metadata": {},
   "source": [
    "## Available Backends\n",
    "Includes remote backends"
   ]
  },
  {
   "cell_type": "code",
   "execution_count": 3,
   "metadata": {},
   "outputs": [
    {
     "name": "stdout",
     "output_type": "stream",
     "text": [
      "['local_unitary_simulator', 'ibmqx2', 'ibmqx4', 'local_qasm_simulator', 'local_clifford_simulator', 'ibmqx5', 'local_statevector_simulator', 'ibmq_qasm_simulator']\n"
     ]
    }
   ],
   "source": [
    "register(qx_config['APIToken'], qx_config['url'])\n",
    "backends = available_backends()\n",
    "print(backends)"
   ]
  },
  {
   "cell_type": "markdown",
   "metadata": {},
   "source": [
    "## Current Status\n",
    "Get status of from backends"
   ]
  },
  {
   "cell_type": "code",
   "execution_count": 4,
   "metadata": {},
   "outputs": [
    {
     "name": "stdout",
     "output_type": "stream",
     "text": [
      "{'available': True, 'name': 'local_unitary_simulator_py'}\n",
      "{'available': False, 'name': 'ibmqx2', 'pending_jobs': 330}\n",
      "{'available': True, 'name': 'ibmqx4', 'pending_jobs': 0}\n",
      "{'available': True, 'name': 'local_qasm_simulator_cpp'}\n",
      "{'available': True, 'name': 'local_clifford_simulator_cpp'}\n",
      "{'available': True, 'name': 'ibmqx5', 'pending_jobs': 11}\n",
      "{'available': True, 'name': 'local_statevector_simulator_cpp'}\n",
      "{'available': True, 'name': 'ibmq_qasm_simulator', 'pending_jobs': 0}\n"
     ]
    }
   ],
   "source": [
    "for backend in backends:\n",
    "    b = get_backend(backend)\n",
    "    pprint(b.status)"
   ]
  }
 ],
 "metadata": {
  "kernelspec": {
   "display_name": "Python 3",
   "language": "python",
   "name": "python3"
  },
  "language_info": {
   "codemirror_mode": {
    "name": "ipython",
    "version": 3
   },
   "file_extension": ".py",
   "mimetype": "text/x-python",
   "name": "python",
   "nbconvert_exporter": "python",
   "pygments_lexer": "ipython3",
   "version": "3.6.4"
  }
 },
 "nbformat": 4,
 "nbformat_minor": 2
}
